{
 "cells": [
  {
   "cell_type": "code",
   "execution_count": 9,
   "metadata": {},
   "outputs": [],
   "source": [
    "import numpy as np\n",
    "import pandas as pd\n",
    "from sklearn.preprocessing import LabelEncoder\n",
    "from sklearn.model_selection import train_test_split\n",
    "from sklearn.metrics import accuracy_score\n",
    "from sklearn.svm import SVC\n",
    "import pandas as pd\n",
    "from sklearn.preprocessing import LabelEncoder\n",
    "from sklearn.model_selection import train_test_split\n",
    "from sklearn.neighbors import KNeighborsClassifier\n",
    "from sklearn.metrics import confusion_matrix, classification_report\n",
    "from sklearn.metrics import accuracy_score\n",
    "from sklearn.metrics import log_loss\n",
    "from sklearn.metrics import roc_auc_score\n",
    "from sklearn.preprocessing import StandardScaler\n",
    "from sklearn.preprocessing import MinMaxScaler\n",
    "from sklearn.pipeline import Pipeline\n",
    "\n",
    "import warnings\n",
    "warnings.filterwarnings(\"ignore\")"
   ]
  },
  {
   "cell_type": "code",
   "execution_count": 10,
   "metadata": {},
   "outputs": [],
   "source": [
    "df = pd.read_csv(\"C:/Users/Administrator.DAI-PC2/Desktop/CDAC/Practical Machine Learning/Cases/Glass Identification/Glass.csv\")"
   ]
  },
  {
   "cell_type": "code",
   "execution_count": 11,
   "metadata": {},
   "outputs": [],
   "source": [
    "le = LabelEncoder()\n",
    "y = le.fit_transform(df['Type']) # y = df.iloc[:,-1]  # Dependent Variable\n",
    "X = df.drop('Type', axis=1)  # Independent Variable"
   ]
  },
  {
   "cell_type": "code",
   "execution_count": 12,
   "metadata": {},
   "outputs": [],
   "source": [
    "# Create training and test sets\n",
    "X_train, X_test, y_train, y_test = train_test_split(X, y, test_size = 0.3, random_state=24, stratify=y)"
   ]
  },
  {
   "cell_type": "code",
   "execution_count": 13,
   "metadata": {},
   "outputs": [
    {
     "name": "stdout",
     "output_type": "stream",
     "text": [
      "Accuracy Score:  0.5692307692307692\n"
     ]
    }
   ],
   "source": [
    "svc = SVC(kernel='linear', probability=True, random_state=24)\n",
    "svc.fit(X_train, y_train)\n",
    "y_pred = svc.predict(X_test)\n",
    "print('Accuracy Score: ',accuracy_score(y_test, y_pred))"
   ]
  },
  {
   "cell_type": "code",
   "execution_count": 14,
   "metadata": {},
   "outputs": [
    {
     "name": "stdout",
     "output_type": "stream",
     "text": [
      "{'C': 4.742105263157895}\n",
      "Best Accuracy:  0.6637873754152824\n"
     ]
    }
   ],
   "source": [
    "from sklearn.model_selection import StratifiedKFold\n",
    "from sklearn.model_selection import GridSearchCV\n",
    "\n",
    "params = {'C': np.linspace(0.1,5,20)}\n",
    "kfold = StratifiedKFold(n_splits=5,shuffle=True, random_state=24)\n",
    "\n",
    "gcv = GridSearchCV(svc, param_grid=params, cv=kfold)\n",
    "gcv.fit(X,y)\n",
    "\n",
    "print(gcv.best_params_)\n",
    "print(\"Best Accuracy: \",gcv.best_score_)"
   ]
  },
  {
   "cell_type": "code",
   "execution_count": 15,
   "metadata": {},
   "outputs": [
    {
     "name": "stdout",
     "output_type": "stream",
     "text": [
      "{'memory': None, 'steps': [('scalar', None), ('SVC', SVC(kernel='linear', probability=True, random_state=24))], 'verbose': False, 'scalar': None, 'SVC': SVC(kernel='linear', probability=True, random_state=24), 'SVC__C': 1.0, 'SVC__break_ties': False, 'SVC__cache_size': 200, 'SVC__class_weight': None, 'SVC__coef0': 0.0, 'SVC__decision_function_shape': 'ovr', 'SVC__degree': 3, 'SVC__gamma': 'scale', 'SVC__kernel': 'linear', 'SVC__max_iter': -1, 'SVC__probability': True, 'SVC__random_state': 24, 'SVC__shrinking': True, 'SVC__tol': 0.001, 'SVC__verbose': False}\n",
      "{'SVC__C': 0.7903157894736842, 'SVC__decision_function_shape': 'ovr', 'scalar': None}\n",
      "-0.931260449901816\n"
     ]
    }
   ],
   "source": [
    "std_scaler= StandardScaler()\n",
    "std_mm= MinMaxScaler()\n",
    "\n",
    "pipe = Pipeline([('scalar', None), ('SVC', svc)])\n",
    "print(pipe.get_params())\n",
    "params = {'scalar':[std_scaler, std_mm, None],'SVC__C': np.linspace(0.001,5,20), 'SVC__decision_function_shape': 'ovr'}\n",
    "\n",
    "gcv_linear = GridSearchCV(pipe, param_grid=params, cv=kfold, scoring='neg_log_loss')\n",
    "gcv_linear.fit(X,y)\n",
    "\n",
    "print(gcv_linear.best_params_)\n",
    "print(gcv_linear.best_score_)"
   ]
  },
  {
   "cell_type": "code",
   "execution_count": null,
   "metadata": {},
   "outputs": [],
   "source": [
    "svc = SVC(kernel='poly', probability=True, random_state=24)\n",
    "\n",
    "std_scaler= StandardScaler()\n",
    "std_mm= MinMaxScaler()\n",
    "\n",
    "pipe = Pipeline([('scalar', None), ('SVC', svc)])\n",
    "print(pipe.get_params())\n",
    "params = {'scalar':[std_scaler, std_mm, None],'SVC__C': np.linspace(0.001,5,20),'SVC__degree': [2,3], 'SVC__coef0': np.linspace(0, 3, 5), 'SVC__decision_function_shape': 'ovr'}\n",
    "\n",
    "gcv_poly = GridSearchCV(pipe, param_grid=params, cv=kfold, scoring='neg_log_loss')\n",
    "\n",
    "gcv_poly.fit(X,y)\n",
    "\n",
    "print(gcv_poly.best_params_)\n",
    "print(gcv_poly.best_score_)"
   ]
  },
  {
   "cell_type": "code",
   "execution_count": null,
   "metadata": {},
   "outputs": [],
   "source": [
    "svc = SVC(probability=True, random_state=24)\n",
    "\n",
    "std_scaler= StandardScaler()\n",
    "std_mm= MinMaxScaler()\n",
    "\n",
    "pipe = Pipeline([('scalar', None), ('SVC', svc)])\n",
    "print(pipe.get_params())\n",
    "params = {'scalar':[std_scaler, std_mm, None],'SVC__C': np.linspace(0.001,5,20), 'SVC__gamma': np.linspace(0.001,5,5), 'SVC__decision_function_shape': 'ovr'}\n",
    "\n",
    "gcv_rbf = GridSearchCV(pipe, param_grid=params, cv=kfold, scoring='neg_log_loss')\n",
    "\n",
    "gcv_rbf.fit(X,y)\n",
    "\n",
    "print(gcv_rbf.best_params_)\n",
    "print(gcv_rbf.best_score_)"
   ]
  },
  {
   "cell_type": "code",
   "execution_count": null,
   "metadata": {},
   "outputs": [],
   "source": [
    "svc = SVC(kernel='sigmoid', probability=True, random_state=24)\n",
    "\n",
    "std_scaler= StandardScaler()\n",
    "std_mm= MinMaxScaler()\n",
    "\n",
    "pipe = Pipeline([('scalar', None), ('SVC', svc)])\n",
    "print(pipe.get_params())\n",
    "params = {'scalar':[std_scaler, std_mm, None],'SVC__C': np.linspace(0.001,5,20), 'SVC__gamma': np.linspace(0.001,5,5), 'SVC__coef0': np.linspace(0, 3, 5), 'SVC__decision_function_shape': 'ovr'}\n",
    "\n",
    "gcv_sigmoid = GridSearchCV(pipe, param_grid=params, cv=kfold, scoring='neg_log_loss')\n",
    "\n",
    "gcv_sigmoid.fit(X,y)\n",
    "\n",
    "print(gcv_sigmoid.best_params_)\n",
    "print(gcv_sigmoid.best_score_)"
   ]
  }
 ],
 "metadata": {
  "kernelspec": {
   "display_name": "Python 3 (ipykernel)",
   "language": "python",
   "name": "python3"
  },
  "language_info": {
   "codemirror_mode": {
    "name": "ipython",
    "version": 3
   },
   "file_extension": ".py",
   "mimetype": "text/x-python",
   "name": "python",
   "nbconvert_exporter": "python",
   "pygments_lexer": "ipython3",
   "version": "3.11.7"
  }
 },
 "nbformat": 4,
 "nbformat_minor": 4
}
